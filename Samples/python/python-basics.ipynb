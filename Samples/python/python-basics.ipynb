{
 "cells": [
  {
   "attachments": {},
   "cell_type": "markdown",
   "metadata": {},
   "source": [
    "# Some Sample Python Code\n",
    "\n",
    "Here we will show some basic Python examples."
   ]
  },
  {
   "cell_type": "code",
   "execution_count": 3,
   "metadata": {},
   "outputs": [
    {
     "name": "stdout",
     "output_type": "stream",
     "text": [
      "hello, world\n"
     ]
    }
   ],
   "source": [
    "#!/usr/bin/env python3\n",
    "# The shebang above allows with `chmod +x hello.py` to run this file directly from\n",
    "# the command line by typing `./hello.py` instead of `python3 hello.py`.\n",
    "\n",
    "\"\"\"\n",
    "    This is a classic hello, world program...\n",
    "    This multiline type of comment is often used as documentation.\n",
    "\"\"\"\n",
    "print('hello, world') # prints 'hello, world'"
   ]
  },
  {
   "attachments": {},
   "cell_type": "markdown",
   "metadata": {},
   "source": [
    "* Printing text and combining string"
   ]
  },
  {
   "cell_type": "code",
   "execution_count": 4,
   "metadata": {},
   "outputs": [
    {
     "name": "stdout",
     "output_type": "stream",
     "text": [
      "***************\n",
      "*hello, world!*\n",
      "***************\n",
      "\n",
      "***************\n",
      "*hello, world!*\n",
      "***************\n",
      "\n",
      "***************\n",
      "*hello, world!*\n",
      "***************\n",
      "\n",
      "***************\n",
      "*hello, world!*\n",
      "***************\n",
      "\n",
      "***************\n",
      "*hello, world!*\n",
      "***************\n",
      "\n"
     ]
    }
   ],
   "source": [
    "# Option #1\n",
    "\n",
    "print(\"***************\")\n",
    "print(\"*hello, world!*\")\n",
    "print(\"***************\\n\")\n",
    "\n",
    "# Option #2\n",
    "\n",
    "print('***************\\n*hello, world!*\\n***************\\n')\n",
    "\n",
    "# Option #3\n",
    "\n",
    "print(\n",
    "    \"***************\\n\" +\n",
    "    \"*hello, world!*\\n\"   # notice the lack of + here\n",
    "    \"***************\\n\"\n",
    ")\n",
    "\n",
    "# Option #4\n",
    "\n",
    "print(\n",
    "\"\"\"\\\n",
    "***************\n",
    "*hello, world!*\n",
    "***************\n",
    "\"\"\"\n",
    ")\n",
    "\n",
    "# Option #5\n",
    "\n",
    "print(\n",
    "'''\\\n",
    "***************\n",
    "*hello, world!*\n",
    "***************\n",
    "'''\n",
    ")\n"
   ]
  },
  {
   "attachments": {},
   "cell_type": "markdown",
   "metadata": {},
   "source": [
    "* Basic input"
   ]
  },
  {
   "cell_type": "code",
   "execution_count": 5,
   "metadata": {},
   "outputs": [
    {
     "name": "stdout",
     "output_type": "stream",
     "text": [
      "Hello, 10!\n",
      "Hello, 10!\n",
      "Hello, 10!\n"
     ]
    }
   ],
   "source": [
    "name = input(\"What is your name? \")\n",
    "\n",
    "# Option #1\n",
    "print(\"Hello, \" + name + \"!\")\n",
    "# Option #2\n",
    "print(\"Hello, {}!\".format(name))\n",
    "# Option #3\n",
    "print(f\"Hello, {name}!\")\n"
   ]
  },
  {
   "attachments": {},
   "cell_type": "markdown",
   "metadata": {},
   "source": [
    "* How to get a more complicated input"
   ]
  },
  {
   "cell_type": "code",
   "execution_count": 6,
   "metadata": {},
   "outputs": [
    {
     "name": "stdout",
     "output_type": "stream",
     "text": [
      "Enter the radius and length of a cylinder: "
     ]
    },
    {
     "ename": "ValueError",
     "evalue": "not enough values to unpack (expected 2, got 1)",
     "output_type": "error",
     "traceback": [
      "\u001b[0;31m---------------------------------------------------------------------------\u001b[0m",
      "\u001b[0;31mValueError\u001b[0m                                Traceback (most recent call last)",
      "Cell \u001b[0;32mIn[6], line 7\u001b[0m\n\u001b[1;32m      1\u001b[0m \u001b[39mprint\u001b[39m(\u001b[39m'\u001b[39m\u001b[39mEnter the radius and length of a cylinder: \u001b[39m\u001b[39m'\u001b[39m, end\u001b[39m=\u001b[39m\u001b[39m'\u001b[39m\u001b[39m'\u001b[39m)\n\u001b[1;32m      3\u001b[0m \u001b[39m# parts  = input().split()\u001b[39;00m\n\u001b[1;32m      4\u001b[0m \u001b[39m# radius = float(parts[0])\u001b[39;00m\n\u001b[1;32m      5\u001b[0m \u001b[39m# length = float(parts[1])\u001b[39;00m\n\u001b[0;32m----> 7\u001b[0m radius, length \u001b[39m=\u001b[39m [\u001b[39mfloat\u001b[39m(part) \u001b[39mfor\u001b[39;00m part \u001b[39min\u001b[39;00m \u001b[39minput\u001b[39m()\u001b[39m.\u001b[39msplit()] \u001b[39m# \"5.5 12\" -> [\"5.5\", \"12\"] -> [5.5, 12]\u001b[39;00m\n\u001b[1;32m      8\u001b[0m area \u001b[39m=\u001b[39m radius \u001b[39m*\u001b[39m radius \u001b[39m*\u001b[39m \u001b[39m3.14159\u001b[39m\n\u001b[1;32m      9\u001b[0m volume \u001b[39m=\u001b[39m area \u001b[39m*\u001b[39m length\n",
      "\u001b[0;31mValueError\u001b[0m: not enough values to unpack (expected 2, got 1)"
     ]
    }
   ],
   "source": [
    "print('Enter the radius and length of a cylinder: ', end='')\n",
    "\n",
    "# parts  = input().split()\n",
    "# radius = float(parts[0])\n",
    "# length = float(parts[1])\n",
    "\n",
    "radius, length = [float(part) for part in input().split()] # \"5.5 12\" -> [\"5.5\", \"12\"] -> [5.5, 12]\n",
    "area = radius * radius * 3.14159\n",
    "volume = area * length\n",
    "print(\n",
    "    f\"Area: {area}\\n\"\n",
    "    f\"Volume: {volume}\"\n",
    ")\n"
   ]
  },
  {
   "attachments": {},
   "cell_type": "markdown",
   "metadata": {},
   "source": [
    "* Tabular Ooutput"
   ]
  },
  {
   "cell_type": "code",
   "execution_count": null,
   "metadata": {},
   "outputs": [
    {
     "name": "stdout",
     "output_type": "stream",
     "text": [
      "         a a^2        a^3       \n",
      "         1 1          1         \n",
      "         2 4          8         \n",
      "         3 9          27        \n",
      "         4 16         64        \n"
     ]
    }
   ],
   "source": [
    "a1, a2, a3, a4 = 1, 2, 3, 4\n",
    "\n",
    "# More on String formatting: https://docs.python.org/3/library/string.html#format-string-syntax\n",
    "print(\n",
    "    f\"{'a':>10} {'a^2':<10} {'a^3':<10}\\n\"\n",
    "    f\"{a1:10} {a1 * a1:<10} {a1 ** 3:<10}\\n\"\n",
    "    f\"{a2:10} {a2 * a2:<10} {a2 ** 3:<10}\\n\"\n",
    "    f\"{a3:10} {a3 * a3:<10} {a3 ** 3:<10}\\n\"\n",
    "    f\"{a4:10} {a4 * a4:<10} {a4 ** 3:<10}\"\n",
    ")"
   ]
  },
  {
   "attachments": {},
   "cell_type": "markdown",
   "metadata": {},
   "source": [
    "* Adding numbers and formatting the result"
   ]
  },
  {
   "cell_type": "code",
   "execution_count": null,
   "metadata": {},
   "outputs": [
    {
     "name": "stdout",
     "output_type": "stream",
     "text": [
      "2.3 + 4.5 = 6.8\n",
      "4.5 + 2.3 = 6.800\n",
      "2.3 + 4.5 = 6.800\n"
     ]
    }
   ],
   "source": [
    "num1 = float(input(\"Enter the first number: \"))\n",
    "num2 = float(input(\"Enter the second number: \"))\n",
    "\n",
    "res = num1 + num2\n",
    "print(num1, \"+\", num2, \"=\", res)\n",
    "print(\"{1} + {0} = {2:.3f}\".format(num1, num2, res))\n",
    "print(f\"{num1} + {num2} = {res:.3f}\") # round sum to three digits after ."
   ]
  },
  {
   "attachments": {},
   "cell_type": "markdown",
   "metadata": {},
   "source": [
    "* Let's try to overflow a variable"
   ]
  },
  {
   "cell_type": "code",
   "execution_count": null,
   "metadata": {},
   "outputs": [
    {
     "name": "stdout",
     "output_type": "stream",
     "text": [
      "40000000000000000000000000000000\n"
     ]
    }
   ],
   "source": [
    "a = 20000000000000000000000000000000\n",
    "b = 20000000000000000000000000000000\n",
    "c = a + b\n",
    "print(c)"
   ]
  },
  {
   "attachments": {},
   "cell_type": "markdown",
   "metadata": {},
   "source": [
    "* Compare floats"
   ]
  },
  {
   "cell_type": "code",
   "execution_count": null,
   "metadata": {},
   "outputs": [
    {
     "name": "stdout",
     "output_type": "stream",
     "text": [
      "Not Equal\n"
     ]
    }
   ],
   "source": [
    "# num1 = 9007199254740992.0\n",
    "# if num1 == 9007199254740993.0:\n",
    "#     print(\"Equal\")\n",
    "# else:\n",
    "#     print(\"Not Equal\")\n",
    "\n",
    "num2 = 9007199254740992\n",
    "if num2 == 9007199254740993:\n",
    "    print(\"Equal\")\n",
    "else:\n",
    "    print(\"Not Equal\")\n"
   ]
  },
  {
   "attachments": {},
   "cell_type": "markdown",
   "metadata": {},
   "source": [
    "* Basic arithmetic operators"
   ]
  },
  {
   "cell_type": "code",
   "execution_count": 7,
   "metadata": {},
   "outputs": [
    {
     "name": "stdout",
     "output_type": "stream",
     "text": [
      "10.0 + 3.0 = 13.000\n",
      "10.0 - 3.0 = 7.000\n",
      "10.0 × 3.0 = 30.000\n",
      "10.0 ÷ 3.0 = 3.333\n",
      "10.0 ÷ 3.0 = 3.000\n",
      "10.0 % 3.0 = 1.000\n",
      "10.0 ** 3.0 = 1000.000\n"
     ]
    }
   ],
   "source": [
    "num1 = float(input(\"Enter the first number: \"))\n",
    "num2 = float(input(\"Enter the second number: \"))\n",
    "\n",
    "print(f\"{num1} + {num2} = {(num1 + num2):.3f}\")\n",
    "print(f\"{num1} - {num2} = {(num1 - num2):.3f}\")\n",
    "print(f\"{num1} × {num2} = {(num1 * num2):.3f}\")\n",
    "print(f\"{num1} ÷ {num2} = {(num1 / num2):.3f}\")\n",
    "print(f\"{num1} ÷ {num2} = {(num1 // num2):.3f}\") # integer division\n",
    "print(f\"{num1} % {num2} = {(num1 % num2):.3f}\")\n",
    "print(f\"{num1} ** {num2} = {(num1 ** num2):.3f}\")"
   ]
  },
  {
   "attachments": {},
   "cell_type": "markdown",
   "metadata": {},
   "source": [
    "* Destructuring is also supported"
   ]
  },
  {
   "cell_type": "code",
   "execution_count": 10,
   "metadata": {},
   "outputs": [
    {
     "name": "stdout",
     "output_type": "stream",
     "text": [
      "Before swap: a=10, b=20\n",
      "After swap: a=20, b=10\n"
     ]
    }
   ],
   "source": [
    "a, b = [int(part) for part in input(\"Enter two numbers: \").split()]\n",
    "print(f\"Before swap: a={a}, b={b}\")\n",
    "a, b = b, a\n",
    "print(f\"After swap: {a=}, {b=}\")"
   ]
  },
  {
   "attachments": {},
   "cell_type": "markdown",
   "metadata": {},
   "source": [
    "* Random numbers from to..."
   ]
  },
  {
   "cell_type": "code",
   "execution_count": 15,
   "metadata": {},
   "outputs": [
    {
     "name": "stdout",
     "output_type": "stream",
     "text": [
      "Random from 10 to 20: 14\n"
     ]
    }
   ],
   "source": [
    "import random\n",
    "\n",
    "min, max = [int(part) for part in input(\"Enter min and max: \").split()]\n",
    "print(f\"Random from {min} to {max}: {random.randint(min, max)}\")\n"
   ]
  },
  {
   "attachments": {},
   "cell_type": "markdown",
   "metadata": {},
   "source": [
    "* one-way if and indentation"
   ]
  },
  {
   "cell_type": "code",
   "execution_count": 18,
   "metadata": {},
   "outputs": [
    {
     "name": "stdout",
     "output_type": "stream",
     "text": [
      "|-10.0| = 10.0\n"
     ]
    }
   ],
   "source": [
    "num = float(input(\"Enter a real number: \"))\n",
    "\n",
    "res = num\n",
    "if num < 0:\n",
    "    res *= -1\n",
    "\n",
    "print(f\"|{num}| = {res}\")"
   ]
  },
  {
   "attachments": {},
   "cell_type": "markdown",
   "metadata": {},
   "source": [
    "* Two-way if construct"
   ]
  },
  {
   "cell_type": "code",
   "execution_count": 20,
   "metadata": {},
   "outputs": [
    {
     "name": "stdout",
     "output_type": "stream",
     "text": [
      "The number 2 is even.\n"
     ]
    }
   ],
   "source": [
    "num = int(input(\"Enter a number: \"))\n",
    "\n",
    "# if num % 2 == 0:\n",
    "#     print(f\"The number {num} is even.\")\n",
    "# else:\n",
    "#     print(f\"The number {num} is odd.\")\n",
    "\n",
    "# Truth Value Testing: https://docs.python.org/3/library/stdtypes.html#truth-value-testing\n",
    "if num % 2:\n",
    "   print(f\"The number {num} is odd.\")\n",
    "else:\n",
    "   print(f\"The number {num} is even.\")\n"
   ]
  },
  {
   "attachments": {},
   "cell_type": "markdown",
   "metadata": {},
   "source": [
    "* Nested ifs with a lot of indentation"
   ]
  },
  {
   "cell_type": "code",
   "execution_count": 25,
   "metadata": {},
   "outputs": [
    {
     "name": "stdout",
     "output_type": "stream",
     "text": [
      "The maximum value is 30.\n"
     ]
    }
   ],
   "source": [
    "num1 = int(input(\"Enter the first number: \"))\n",
    "num2 = int(input(\"Enter the second number: \"))\n",
    "num3 = int(input(\"Enter the third number: \"))\n",
    "\n",
    "max = 0\n",
    "if num1 > num2:\n",
    "    if num1 > num3:\n",
    "        max = num1\n",
    "    else:\n",
    "        max = num3\n",
    "else:\n",
    "    if num2 > num3:\n",
    "        max = num2\n",
    "    else:\n",
    "        max = num3\n",
    "\n",
    "print(f\"The maximum value is {max}.\")\n"
   ]
  },
  {
   "attachments": {},
   "cell_type": "markdown",
   "metadata": {},
   "source": [
    "* Logical operators"
   ]
  },
  {
   "cell_type": "code",
   "execution_count": 27,
   "metadata": {},
   "outputs": [
    {
     "name": "stdout",
     "output_type": "stream",
     "text": [
      "2001 is not a leap year.\n"
     ]
    }
   ],
   "source": [
    "year = int(input(\"Year: \"))\n",
    "\n",
    "if (year % 4 == 0 and year % 100 != 0) or (year % 400 == 0):\n",
    "    print(f\"{year} is a leap year.\")\n",
    "else:\n",
    "    print(f\"{year} is not a leap year.\")\n"
   ]
  },
  {
   "attachments": {},
   "cell_type": "markdown",
   "metadata": {},
   "source": [
    "* Multiway if (used here for many versions instead of switch in other languages)"
   ]
  },
  {
   "cell_type": "code",
   "execution_count": 29,
   "metadata": {},
   "outputs": [
    {
     "name": "stdout",
     "output_type": "stream",
     "text": [
      "The numbers are equal.\n"
     ]
    }
   ],
   "source": [
    "num1 = int(input(\"Enter the first number: \"))\n",
    "num2 = int(input(\"Enter the second number: \"))\n",
    "\n",
    "if num1 > num2:\n",
    "    print(f\"The first number {num1} is greater than the second number {num2}.\")\n",
    "elif num2 > num1:\n",
    "    print(f\"The second number {num2} is greater than the first number {num1}.\")\n",
    "else:\n",
    "    print(f\"The numbers are equal.\")\n"
   ]
  },
  {
   "attachments": {},
   "cell_type": "markdown",
   "metadata": {},
   "source": [
    "* Match construct available in latest versions of Python 3"
   ]
  },
  {
   "cell_type": "code",
   "execution_count": 32,
   "metadata": {},
   "outputs": [
    {
     "name": "stdout",
     "output_type": "stream",
     "text": [
      "Invalid month number\n"
     ]
    }
   ],
   "source": [
    "month = int(input(\"Enter the month number: \"))\n",
    "match month:\n",
    "    case 1:\n",
    "        msg = \"January\"\n",
    "    case 2:\n",
    "        msg = \"February\"\n",
    "    case 3:\n",
    "        msg = \"March\"\n",
    "    case 4:\n",
    "        msg = \"April\"\n",
    "    case 5:\n",
    "        msg = \"May\"\n",
    "    case 6:\n",
    "        msg = \"June\"\n",
    "    case 7:\n",
    "        msg = \"July\"\n",
    "    case 8:\n",
    "        msg = \"August\"\n",
    "    case 9:\n",
    "        msg = \"September\"\n",
    "    case 10:\n",
    "        msg = \"October\"\n",
    "    case 11:\n",
    "        msg = \"November\"\n",
    "    case 12:\n",
    "        msg = \"December\"\n",
    "    case _:\n",
    "        msg = \"Invalid month number\"\n",
    "\n",
    "print(msg)\n"
   ]
  },
  {
   "cell_type": "code",
   "execution_count": 54,
   "metadata": {},
   "outputs": [
    {
     "name": "stdout",
     "output_type": "stream",
     "text": [
      "You have selected \"7 of diamonds\".\n"
     ]
    }
   ],
   "source": [
    "import random\n",
    "\n",
    "random = random.Random()\n",
    "\n",
    "rankID = random.randint(1, 13)\n",
    "match rankID:\n",
    "    case 2 | 3 | 4 | 5 | 6 | 7 | 8 | 9 | 10:\n",
    "        rank = f\"{rankID}\"\n",
    "    case 1:\n",
    "        rank = \"Ace\"\n",
    "    case 11:\n",
    "        rank = \"Jack\"\n",
    "    case 12:\n",
    "        rank = \"King\"\n",
    "    case 13:\n",
    "        rank = \"Queen\"\n",
    "\n",
    "suitID = random.randint(1, 4)\n",
    "if suitID == 1:\n",
    "    suit = \"club\"\n",
    "elif suitID == 2:\n",
    "    suit = \"diamonds\"\n",
    "elif suitID == 3:\n",
    "    suit = \"hearts\"\n",
    "elif suitID == 4:\n",
    "    suit = \"spades\"\n",
    "\n",
    "print(f'You have selected \"{rank} of {suit}\".')"
   ]
  },
  {
   "attachments": {},
   "cell_type": "markdown",
   "metadata": {},
   "source": [
    "* The trailing if is used instead of the ternary op"
   ]
  },
  {
   "cell_type": "code",
   "execution_count": 56,
   "metadata": {},
   "outputs": [
    {
     "name": "stdout",
     "output_type": "stream",
     "text": [
      "28\n"
     ]
    }
   ],
   "source": [
    "year = int(input(\"Year: \"))\n",
    "month = int(input(\"Month: \"))\n",
    "\n",
    "if month in [1, 3, 5, 7, 8, 10, 12]:\n",
    "    msg = \"31\"\n",
    "elif month in [4, 6, 9, 11]:\n",
    "    msg = \"30\"\n",
    "elif month == 2:\n",
    "    isLeapYear = year % 4 == 0 and year % 100 != 0 or year % 400 == 0\n",
    "    msg = \"29\" if isLeapYear else \"28\"\n",
    "else:\n",
    "    msg = \"Invalid month number\"\n",
    "\n",
    "print(msg)"
   ]
  },
  {
   "attachments": {},
   "cell_type": "markdown",
   "metadata": {},
   "source": [
    "* The while loop example"
   ]
  },
  {
   "cell_type": "code",
   "execution_count": 3,
   "metadata": {},
   "outputs": [
    {
     "name": "stdout",
     "output_type": "stream",
     "text": [
      "The sum of all digits is 6\n"
     ]
    }
   ],
   "source": [
    "num = abs(int(input(\"Enter a number: \")))\n",
    "\n",
    "grade_sum = 0\n",
    "while num != 0:\n",
    "    grade_sum += num % 10\n",
    "    num //= 10\n",
    "\n",
    "print(f\"The sum of all digits is {grade_sum}\")"
   ]
  },
  {
   "cell_type": "markdown",
   "metadata": {},
   "source": [
    "* The for example"
   ]
  },
  {
   "cell_type": "code",
   "execution_count": 4,
   "metadata": {},
   "outputs": [
    {
     "name": "stdout",
     "output_type": "stream",
     "text": [
      "0 + 9 = 1 + 7 = 6 + 5 = Correct answers: 2\n",
      "Incorrect answers: 1\n"
     ]
    }
   ],
   "source": [
    "from random import Random\n",
    "\n",
    "MIN_TEST_VALUE = 0\n",
    "MAX_TEST_VALUE = 10\n",
    "\n",
    "test_count = int(input(\"Enter the number of tests: \"))\n",
    "\n",
    "correct_answer_count = 0\n",
    "incorrect_answer_count = 0\n",
    "\n",
    "rand = Random()\n",
    "for i in range(test_count):\n",
    "    num1 = rand.randint(MIN_TEST_VALUE, MAX_TEST_VALUE)\n",
    "    num2 = rand.randint(MIN_TEST_VALUE, MAX_TEST_VALUE)\n",
    "    print(f\"{num1} + {num2} = \", end=\"\")\n",
    "    answer = int(input())\n",
    "    if num1 + num2 == answer:\n",
    "        correct_answer_count += 1\n",
    "    else:\n",
    "        incorrect_answer_count += 1\n",
    "\n",
    "print(f\"Correct answers: {correct_answer_count}\")\n",
    "print(f\"Incorrect answers: {incorrect_answer_count}\")\n"
   ]
  },
  {
   "cell_type": "markdown",
   "metadata": {},
   "source": [
    "* Tuples"
   ]
  },
  {
   "cell_type": "code",
   "execution_count": 10,
   "metadata": {},
   "outputs": [
    {
     "name": "stdout",
     "output_type": "stream",
     "text": [
      "4\n",
      "5\n",
      "5\n",
      "'tuple' object does not support item assignment\n",
      "4\n",
      "5\n",
      "4\n",
      "5\n"
     ]
    }
   ],
   "source": [
    "# Declaring a tuple\n",
    "coordinates = (4, 5)\n",
    "\n",
    "# Accessing elements in a tuple\n",
    "print(coordinates[0]) # 4\n",
    "print(coordinates[1]) # 5\n",
    "print(coordinates[-1]) # 5\n",
    "\n",
    "# Tuples are immutable\n",
    "try:\n",
    "    coordinates[0] = 10\n",
    "except TypeError as e:\n",
    "    print(e)\n",
    "\n",
    "# Tuple packing and unpacking\n",
    "x, y = (4, 5)\n",
    "print(x)\n",
    "print(y)\n",
    "\n",
    "# Iterating over a tuple\n",
    "for coordinate in coordinates:\n",
    "    print(coordinate)"
   ]
  },
  {
   "attachments": {},
   "cell_type": "markdown",
   "metadata": {},
   "source": [
    "* Arrays"
   ]
  },
  {
   "cell_type": "code",
   "execution_count": 23,
   "metadata": {},
   "outputs": [
    {
     "name": "stdout",
     "output_type": "stream",
     "text": [
      "[3, 4, 5]\n",
      "3\n",
      "Index: 0, Value: 3\n",
      "Index: 1, Value: 4\n",
      "Index: 2, Value: 5\n"
     ]
    }
   ],
   "source": [
    "# Declaring an array\n",
    "numbers = [1, 2, 3, 4, 5]\n",
    "    #      0  1  2  3  4\n",
    "del numbers[0:2]\n",
    "print(numbers)\n",
    "\n",
    "# Array length\n",
    "print(len(numbers))\n",
    "\n",
    "for index, number in enumerate(numbers):\n",
    "    print(f\"Index: {index}, Value: {number}\")"
   ]
  },
  {
   "attachments": {},
   "cell_type": "markdown",
   "metadata": {},
   "source": [
    "* List comprehension"
   ]
  },
  {
   "cell_type": "code",
   "execution_count": 24,
   "metadata": {},
   "outputs": [
    {
     "name": "stdout",
     "output_type": "stream",
     "text": [
      "[0, 1, 4, 9, 16]\n"
     ]
    }
   ],
   "source": [
    "squares = [i**2 for i in range(5)]\n",
    "print(squares)"
   ]
  },
  {
   "cell_type": "code",
   "execution_count": 25,
   "metadata": {},
   "outputs": [
    {
     "name": "stdout",
     "output_type": "stream",
     "text": [
      "[0, 4, 16, 36, 64]\n",
      "['Negative', 'Positive', 'Negative', 'Negative', 'Positive']\n",
      "[1, 2, 3, 4, 5, 6]\n",
      "[(0, 0), (0, 1), (0, 2), (1, 0), (1, 1), (1, 2), (2, 0), (2, 1), (2, 2)]\n"
     ]
    }
   ],
   "source": [
    "# Using a list comprehension with an if clause\n",
    "even_squares = [i**2 for i in range(10) if i % 2 == 0]\n",
    "print(even_squares)\n",
    "\n",
    "# Using a list comprehension with an if-else clause\n",
    "signs = [\"Positive\" if i > 0 else \"Negative\" for i in [-1, 2, 0, -3, 4]]\n",
    "print(signs)\n",
    "\n",
    "# Using a list comprehension to flatten a list of lists\n",
    "matrix = [[1, 2], [3, 4], [5, 6]]\n",
    "flat = [x for row in matrix for x in row]\n",
    "print(flat)\n",
    "\n",
    "# Using a list comprehension to create a list of tuples\n",
    "pairs = [(x, y) for x in range(3) for y in range(3)]\n",
    "print(pairs)"
   ]
  },
  {
   "attachments": {},
   "cell_type": "markdown",
   "metadata": {},
   "source": [
    "* Sets"
   ]
  },
  {
   "cell_type": "code",
   "execution_count": 26,
   "metadata": {},
   "outputs": [
    {
     "name": "stdout",
     "output_type": "stream",
     "text": [
      "True\n",
      "False\n",
      "True\n",
      "False\n",
      "{1, 2}\n",
      "{1, 2, 3, 4, 5}\n",
      "{3}\n",
      "{1, 2, 4, 5}\n",
      "1\n",
      "2\n",
      "3\n",
      "5\n",
      "6\n"
     ]
    }
   ],
   "source": [
    "# Declaring a set\n",
    "s = {1, 2, 3, 4, 5}\n",
    "\n",
    "# Accessing elements in a set\n",
    "print(2 in s)\n",
    "print(6 in s)\n",
    "\n",
    "# Modifying a set\n",
    "s.add(6)\n",
    "print(6 in s)\n",
    "\n",
    "s.remove(4)\n",
    "print(4 in s)\n",
    "\n",
    "# Set operations\n",
    "a = {1, 2, 3}\n",
    "b = {3, 4, 5}\n",
    "\n",
    "print(a - b)\n",
    "print(a | b)\n",
    "print(a & b)\n",
    "print(a ^ b)\n",
    "\n",
    "# Iterating over a set\n",
    "for element in s:\n",
    "    print(element)\n"
   ]
  },
  {
   "attachments": {},
   "cell_type": "markdown",
   "metadata": {},
   "source": [
    "* Dictionaries"
   ]
  },
  {
   "cell_type": "code",
   "execution_count": 30,
   "metadata": {},
   "outputs": [
    {
     "name": "stdout",
     "output_type": "stream",
     "text": [
      "John Smith\n",
      "30\n",
      "25\n",
      "555-555-5555\n",
      "name: John Smith\n",
      "age: 25\n",
      "courses: ['Math', 'Physics', 'Computer Science']\n",
      "name: John Smith\n",
      "age: 25\n",
      "courses: ['Math', 'Physics', 'Computer Science']\n"
     ]
    }
   ],
   "source": [
    "# Declaring a dictionary\n",
    "student = {\n",
    "    \"name\": \"John Smith\",\n",
    "    \"age\": 30,\n",
    "    \"courses\": [\"Math\", \"Physics\", \"Computer Science\"],\n",
    "}\n",
    "\n",
    "# Accessing elements in a dictionary\n",
    "print(student[\"name\"])\n",
    "print(student[\"age\"])\n",
    "\n",
    "# Modifying elements in a dictionary\n",
    "student[\"age\"] = 25\n",
    "print(student[\"age\"])\n",
    "\n",
    "# Adding to a dictionary\n",
    "student[\"phone\"] = \"555-555-5555\"\n",
    "print(student[\"phone\"])\n",
    "\n",
    "# Removing from a dictionary\n",
    "del student[\"phone\"]\n",
    "# print(student[\"phone\"])\n",
    "\n",
    "# Iterating over a dictionary\n",
    "for key in student:\n",
    "    print(f\"{key}: {student[key]}\")\n",
    "for key, val in student.items():\n",
    "    print(f\"{key}: {val}\")\n"
   ]
  }
 ],
 "metadata": {
  "kernelspec": {
   "display_name": "Python 3",
   "language": "python",
   "name": "python3"
  },
  "language_info": {
   "codemirror_mode": {
    "name": "ipython",
    "version": 3
   },
   "file_extension": ".py",
   "mimetype": "text/x-python",
   "name": "python",
   "nbconvert_exporter": "python",
   "pygments_lexer": "ipython3",
   "version": "3.11.0 (main, Oct 26 2022, 19:06:18) [Clang 14.0.0 (clang-1400.0.29.202)]"
  },
  "orig_nbformat": 4,
  "vscode": {
   "interpreter": {
    "hash": "5c7b89af1651d0b8571dde13640ecdccf7d5a6204171d6ab33e7c296e100e08a"
   }
  }
 },
 "nbformat": 4,
 "nbformat_minor": 2
}
