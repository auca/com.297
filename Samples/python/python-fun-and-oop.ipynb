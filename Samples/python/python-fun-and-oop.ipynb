{
 "cells": [
  {
   "cell_type": "code",
   "execution_count": 14,
   "metadata": {},
   "outputs": [
    {
     "name": "stdout",
     "output_type": "stream",
     "text": [
      "Hello, world!\n",
      "\n",
      "        This is a documentation string for the method. It can be accesses with\n",
      "        print_string.__doc__\n",
      "    \n",
      "3.0\n",
      "3.0\n",
      "name : Joe\n",
      "age : 19\n",
      "isRegistered : True\n",
      "gpa : 4.0\n",
      "After local assignment: test spam\n",
      "After nonlocal assignment: nonlocal spam\n",
      "After global assignment: nonlocal spam\n",
      "In main func scope: global spam\n"
     ]
    }
   ],
   "source": [
    "def function_that_does_nothing():\n",
    "    pass\n",
    "\n",
    "def print_string(string):\n",
    "    \"\"\"\n",
    "        This is a documentation string for the method. It can be accesses with\n",
    "        print_string.__doc__\n",
    "    \"\"\"\n",
    "    print(string)\n",
    "\n",
    "def add_numbers(num1, num2):\n",
    "    return num1 + num2\n",
    "\n",
    "def average_numbers(numbers):\n",
    "    return sum(numbers) / len(numbers)\n",
    "\n",
    "def average_vararg_numbers(*numbers):\n",
    "    return sum(numbers) / len(numbers)\n",
    "\n",
    "# https://docs.python.org/3/tutorial/controlflow.html#positional-or-keyword-arguments\n",
    "def parrot(voltage, state='a stiff', action='voom', type='Norwegian Blue'):\n",
    "    print(\"-- This parrot wouldn't\", action, end=' ')\n",
    "    print(\"if you put\", voltage, \"volts through it.\")\n",
    "    print(\"-- Lovely plumage, the\", type)\n",
    "    print(\"-- It's\", state, \"!\")\n",
    "\n",
    "def report(**keywords):\n",
    "    for key in keywords:\n",
    "        print(key, \":\", keywords[key])\n",
    "\n",
    "def restrict_params(pos_only, /, standard, *, kwd_only):\n",
    "    print(pos_only, standard, kwd_only)\n",
    "\n",
    "def scope_test():\n",
    "    def do_local():\n",
    "        spam = \"local spam\"\n",
    "\n",
    "    def do_nonlocal():\n",
    "        nonlocal spam\n",
    "        spam = \"nonlocal spam\"\n",
    "\n",
    "    def do_global():\n",
    "        global spam\n",
    "        spam = \"global spam\"\n",
    "\n",
    "    spam = \"test spam\"\n",
    "    do_local()\n",
    "    print(\"After local assignment:\", spam)\n",
    "    do_nonlocal()\n",
    "    print(\"After nonlocal assignment:\", spam)\n",
    "    do_global()\n",
    "    print(\"After global assignment:\", spam)\n",
    "\n",
    "def main():\n",
    "    function_that_does_nothing()\n",
    "\n",
    "    print_string(\"Hello, world!\")\n",
    "    print(print_string.__doc__)\n",
    "\n",
    "    result = average_numbers([1, 2, 3, 4, 5])\n",
    "    print(result)\n",
    "\n",
    "    result = average_vararg_numbers(1, 2, 3, 4, 5)\n",
    "    print(result)\n",
    "\n",
    "    report(name=\"Joe\", age=19, isRegistered=True, gpa=4.0)\n",
    "\n",
    "    # restrict_params(pos_only='positional arg', standard=\"key or positional args\", kwd_only=\"keyword only arg\")\n",
    "    # restrict_params('positional arg', standard=\"key or positional args\", \"keyword only arg\")\n",
    "\n",
    "    scope_test()\n",
    "    print(\"In main func scope:\", spam)\n",
    "\n",
    "if __name__ == '__main__':\n",
    "    main()\n"
   ]
  },
  {
   "cell_type": "code",
   "execution_count": 15,
   "metadata": {},
   "outputs": [
    {
     "name": "stdout",
     "output_type": "stream",
     "text": [
      "Circle(x=10, y=20, radius=30)\n",
      "Rectangle(x=10, y=20, width=30, height=40)\n"
     ]
    }
   ],
   "source": [
    "class Shape:\n",
    "    def __init__(self, x, y):\n",
    "        self.x = x\n",
    "        self.y = y\n",
    "\n",
    "class Rectangle(Shape):\n",
    "    width = 0\n",
    "    height = 0\n",
    "\n",
    "    def __init__(self, x, y, width, height):\n",
    "        super().__init__(x, y)\n",
    "\n",
    "        self.width = width\n",
    "        self.height = height\n",
    "\n",
    "    def __str__(self):\n",
    "        return f\"Rectangle(x={self.x}, y={self.y}, width={self.width}, height={self.height})\"\n",
    "\n",
    "class Circle(Shape):\n",
    "    def __init__(self, x, y, radius):\n",
    "        super().__init__(x, y)\n",
    "\n",
    "        self.radius = radius\n",
    "\n",
    "    def __str__(self):\n",
    "        return f\"Circle(x={self.x}, y={self.y}, radius={self.radius})\"\n",
    "\n",
    "circle = Circle(10, 20, 30)\n",
    "print(circle)\n",
    "\n",
    "rect = Rectangle(10, 20, 30, 40)\n",
    "print(rect)\n"
   ]
  },
  {
   "cell_type": "code",
   "execution_count": 16,
   "metadata": {},
   "outputs": [
    {
     "name": "stdout",
     "output_type": "stream",
     "text": [
      "<__main__.Employee object at 0x10d2aac90>\n",
      "Student(name='Jane Doe', dept='SFW', tuition=1000000)\n"
     ]
    }
   ],
   "source": [
    "class Employee:\n",
    "    pass\n",
    "\n",
    "john = Employee()\n",
    "john.name = 'John Doe'\n",
    "john.dept = 'SFW'\n",
    "john.salary = 1000000\n",
    "print(john)\n",
    "\n",
    "from dataclasses import dataclass\n",
    "\n",
    "@dataclass\n",
    "class Student:\n",
    "    name: str\n",
    "    dept: str\n",
    "    tuition: int\n",
    "\n",
    "jane = Student('Jane Doe', 'SFW', 1000000)\n",
    "print(jane)\n"
   ]
  },
  {
   "cell_type": "code",
   "execution_count": 17,
   "metadata": {},
   "outputs": [
    {
     "name": "stdout",
     "output_type": "stream",
     "text": [
      "10\n",
      "20\n",
      "30\n",
      "30\n"
     ]
    }
   ],
   "source": [
    "class Shape:\n",
    "    def __init__(self, x, y):\n",
    "        self._x = x\n",
    "        self._y = y\n",
    "\n",
    "    @property\n",
    "    def x(self):\n",
    "        return self._x\n",
    "\n",
    "    @property\n",
    "    def y(self):\n",
    "        return self._y\n",
    "\n",
    "class Rectangle(Shape):\n",
    "    def __init__(self, x, y, width, height):\n",
    "        super().__init__(x, y)\n",
    "\n",
    "        self.width = width\n",
    "        self.height = height\n",
    "\n",
    "class Circle(Shape):\n",
    "    def __init__(self, x, y, radius):\n",
    "        super().__init__(x, y)\n",
    "\n",
    "        self._radius = radius if radius > 0 else 0\n",
    "\n",
    "    @property\n",
    "    def radius(self):\n",
    "        return self._radius\n",
    "\n",
    "    @radius.setter\n",
    "    def radius(self, radius):\n",
    "        if radius > 0:\n",
    "            self._radius = radius\n",
    "\n",
    "circle = Circle(10, 20, 30)\n",
    "print(circle.x)\n",
    "print(circle.y)\n",
    "print(circle.radius)\n",
    "\n",
    "circle.radius = -10\n",
    "print(circle.radius)\n"
   ]
  },
  {
   "cell_type": "code",
   "execution_count": 22,
   "metadata": {},
   "outputs": [
    {
     "name": "stdout",
     "output_type": "stream",
     "text": [
      "A\n",
      "C is doing something\n"
     ]
    }
   ],
   "source": [
    "class A:\n",
    "    def __init__(self):\n",
    "        self.name = \"A\"\n",
    "\n",
    "    def do_something(self):\n",
    "        print(f\"{self.name} is doing something\")\n",
    "\n",
    "class B:\n",
    "    def __init__(self):\n",
    "        self.name = \"B\"\n",
    "\n",
    "    def do_something(self):\n",
    "        print(f\"{self.name} is doing something\")\n",
    "\n",
    "class C(A, B):\n",
    "    def __init__(self):\n",
    "        super().__init__()\n",
    "        self.name = \"C\"\n",
    "\n",
    "c = C()\n",
    "c.do_something()  # Output: \"? is doing something\"\n"
   ]
  },
  {
   "cell_type": "code",
   "execution_count": null,
   "metadata": {},
   "outputs": [],
   "source": []
  }
 ],
 "metadata": {
  "kernelspec": {
   "display_name": "Python 3",
   "language": "python",
   "name": "python3"
  },
  "language_info": {
   "codemirror_mode": {
    "name": "ipython",
    "version": 3
   },
   "file_extension": ".py",
   "mimetype": "text/x-python",
   "name": "python",
   "nbconvert_exporter": "python",
   "pygments_lexer": "ipython3",
   "version": "3.11.0 (main, Oct 26 2022, 19:06:18) [Clang 14.0.0 (clang-1400.0.29.202)]"
  },
  "orig_nbformat": 4,
  "vscode": {
   "interpreter": {
    "hash": "5c7b89af1651d0b8571dde13640ecdccf7d5a6204171d6ab33e7c296e100e08a"
   }
  }
 },
 "nbformat": 4,
 "nbformat_minor": 2
}
